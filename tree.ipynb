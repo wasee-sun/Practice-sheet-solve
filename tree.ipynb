{
 "cells": [
  {
   "cell_type": "markdown",
   "metadata": {},
   "source": [
    "Tree Problems\n",
    "\n",
    "https://drive.google.com/file/d/1qVo1--U6q53ZE2kniSAF8VNHTWp-J_yt/view"
   ]
  },
  {
   "cell_type": "code",
   "execution_count": 61,
   "metadata": {},
   "outputs": [],
   "source": [
    "class Node:\n",
    "    def __init__(self, elem):\n",
    "        self.elem = elem\n",
    "        self.left = None\n",
    "        self.right = None\n",
    "        \n",
    "def inorder(root):\n",
    "  if root == None:\n",
    "    return\n",
    "\n",
    "  inorder(root.left)\n",
    "  print(root.elem, end = ' ')\n",
    "  inorder(root.right)\n",
    "  \n",
    "def preorder(root):\n",
    "  if root == None:\n",
    "    return\n",
    "\n",
    "  print(root.elem, end = ' ')\n",
    "  preorder(root.left)\n",
    "  preorder(root.right)"
   ]
  },
  {
   "cell_type": "markdown",
   "metadata": {},
   "source": [
    "Binary Tree"
   ]
  },
  {
   "cell_type": "code",
   "execution_count": 22,
   "metadata": {},
   "outputs": [
    {
     "name": "stdout",
     "output_type": "stream",
     "text": [
      "False\n"
     ]
    }
   ],
   "source": [
    "#1\n",
    "def identical(root1, root2):\n",
    "    if root1 == None and root2 == None:\n",
    "        return True\n",
    "    \n",
    "    if root1 == None or root2 == None:\n",
    "        return False\n",
    "    \n",
    "    if root1.elem == root2.elem:\n",
    "        return identical(root1.left, root2.left) and identical(root1.right, root2.right)\n",
    "    return False\n",
    "\n",
    "\n",
    "root1 = Node(1)\n",
    "root2 = Node(1)\n",
    "\n",
    "r1_n1 = Node(2)\n",
    "r1_n2 = Node(3)\n",
    "r2_n1 = Node(2)\n",
    "r2_n2 = Node(3)\n",
    "r2_n3 = Node(4)\n",
    "\n",
    "root1.left = r1_n1\n",
    "root1.right = r1_n2\n",
    "root2.left = r2_n1\n",
    "root2.right = r2_n2\n",
    "# r2_n1.left = r2_n3\n",
    "\n",
    "print(identical(root1, root2))\n"
   ]
  },
  {
   "cell_type": "code",
   "execution_count": 10,
   "metadata": {},
   "outputs": [
    {
     "name": "stdout",
     "output_type": "stream",
     "text": [
      "40 20 60 10 30 \n",
      "Mirrored\n",
      "30 10 60 20 40 "
     ]
    }
   ],
   "source": [
    "#2\n",
    "def convert_mirror(root):\n",
    "  mir_right = root.left\n",
    "  mir_left = root.right\n",
    "  if mir_right:\n",
    "    root.left = mir_left\n",
    "    convert_mirror(root.left)\n",
    "  if mir_left:\n",
    "    root.right = mir_right\n",
    "    convert_mirror(root.right)\n",
    "\n",
    "  return root\n",
    "\n",
    "\n",
    "root = Node(10)\n",
    "n1 = Node(20)\n",
    "n2 = Node(30)\n",
    "n3 = Node(40)\n",
    "n4 = Node(60)\n",
    "\n",
    "root.left = n1\n",
    "root.right = n2\n",
    "\n",
    "n1.left = n3\n",
    "n1.right = n4\n",
    "\n",
    "inorder(root)\n",
    "print()\n",
    "root2 = convert_mirror(root)\n",
    "print(\"Mirrored\") \n",
    "inorder(root2)\n"
   ]
  },
  {
   "cell_type": "code",
   "execution_count": 14,
   "metadata": {},
   "outputs": [
    {
     "name": "stdout",
     "output_type": "stream",
     "text": [
      "False\n",
      "True\n"
     ]
    }
   ],
   "source": [
    "#3\n",
    "def height(node):\n",
    "    if node == None:\n",
    "        return 0\n",
    "    \n",
    "    left_h = height(node.left)\n",
    "    right_h = height(node.right)\n",
    "    \n",
    "    return max(left_h, right_h) + 1\n",
    "    \n",
    "def balanced(node):\n",
    "    left = height(node.left)\n",
    "    right = height(node.right)\n",
    "    if left - right < 2:\n",
    "        return True\n",
    "    return False\n",
    "    \n",
    "#Input 1\n",
    "root1 = Node(1)\n",
    "n1 = Node(2)\n",
    "n2 = Node(3)\n",
    "\n",
    "root1.left = n1\n",
    "n1.right = n2\n",
    "\n",
    "print(balanced(root1))\n",
    "\n",
    "#Input 2    \n",
    "root2 = Node(10)\n",
    "n1 = Node(20)\n",
    "n2 = Node(30)\n",
    "n3 = Node(40)\n",
    "n4 = Node(60)\n",
    "\n",
    "root2.left = n1\n",
    "root2.right = n2\n",
    "\n",
    "n1.left = n3\n",
    "n1.right = n4\n",
    "\n",
    "print(balanced(root2))"
   ]
  },
  {
   "cell_type": "code",
   "execution_count": 16,
   "metadata": {},
   "outputs": [
    {
     "name": "stdout",
     "output_type": "stream",
     "text": [
      "True\n",
      "False\n"
     ]
    }
   ],
   "source": [
    "#4\n",
    "def _sum_Tree(root):\n",
    "  if root.left == None and root.right == None:\n",
    "    return root.elem\n",
    "\n",
    "  val1 = 0\n",
    "  val2 = 0\n",
    "\n",
    "  if root.left:\n",
    "    val1 = _sum_Tree(root.left)\n",
    "  if root.right:\n",
    "    val2 = _sum_Tree(root.right)\n",
    "\n",
    "  if ((val1 != 0 and val1 == False) or\n",
    "  val2 != 0 and val2 == False):\n",
    "    return False\n",
    "\n",
    "  if root.elem == val1 + val2:\n",
    "    return root.elem + val1 + val2\n",
    "  else:\n",
    "    return False\n",
    "\n",
    "def sum_Tree(root):\n",
    "  val = _sum_Tree(root)\n",
    "  if val:\n",
    "    return True\n",
    "  return False\n",
    "\n",
    "\n",
    "root1 = Node(10)\n",
    "n1 = Node(10)\n",
    "root1.left = n1\n",
    "\n",
    "print(sum_Tree(root1))\n",
    "\n",
    "root2 = Node(1)\n",
    "n1 = Node(4)\n",
    "n2 = Node(3)\n",
    "n3 = Node(5)\n",
    "n4 = Node(2)\n",
    "root2.left = n1\n",
    "root2.right = n2\n",
    "n1.left = n3\n",
    "n1.right = n4\n",
    "\n",
    "print(sum_Tree(root2))"
   ]
  },
  {
   "cell_type": "code",
   "execution_count": 30,
   "metadata": {},
   "outputs": [
    {
     "name": "stdout",
     "output_type": "stream",
     "text": [
      "4 9 7 "
     ]
    }
   ],
   "source": [
    "#5\n",
    "def _max_level(root, diction, level):\n",
    "  if level == 0:\n",
    "    diction[level] = root.elem\n",
    "    level += 1\n",
    "\n",
    "  max_val = None\n",
    "  value1 = 0\n",
    "  value2 = 0\n",
    "  \n",
    "  if root.left:\n",
    "    value1 = root.left.elem\n",
    "  if root.right:\n",
    "    value2 = root.right.elem\n",
    "    \n",
    "  max_val = max(value1, value2)\n",
    "\n",
    "  if value1 != 0 or value2 != 0:\n",
    "    if level not in diction.keys():\n",
    "      diction[level] = max_val\n",
    "      level += 1\n",
    "    else:\n",
    "      if max_val > diction[level]:\n",
    "        diction[level] = max_val\n",
    "\n",
    "  if root.left:\n",
    "    diction = _max_level(root.left, diction, level)\n",
    "  if root.right:\n",
    "    diction = _max_level(root.right, diction, level)\n",
    "\n",
    "  return diction\n",
    "\n",
    "def max_level(root):\n",
    "  diction = _max_level(root, {}, 0)\n",
    "  for val in diction.values():\n",
    "    print(val, end=\" \")\n",
    "\n",
    "\n",
    "root = Node(4)\n",
    "n1 = Node(9)\n",
    "n2 = Node(2)\n",
    "n3 = Node(3)\n",
    "n4 = Node(5)\n",
    "n5 = Node(7)\n",
    "\n",
    "root.left = n1\n",
    "root.right = n2\n",
    "\n",
    "n1.left = n3\n",
    "n1.right = n4\n",
    "n2.right = n5\n",
    "\n",
    "max_level(root)"
   ]
  },
  {
   "cell_type": "code",
   "execution_count": 25,
   "metadata": {},
   "outputs": [
    {
     "name": "stdout",
     "output_type": "stream",
     "text": [
      "No\n"
     ]
    }
   ],
   "source": [
    "#6\n",
    "def no_dup(ele, val):\n",
    "    if len(ele) == 0:\n",
    "        return True\n",
    "    \n",
    "    if ele[0] == val:\n",
    "        return False\n",
    "    \n",
    "    return no_dup(ele[1:], val)\n",
    "\n",
    "def _duplicate(root, ele = []):\n",
    "    if root == None:\n",
    "        return True\n",
    "    \n",
    "    if no_dup(ele, root.elem):\n",
    "        ele.append(root.elem)\n",
    "    else:\n",
    "        return False\n",
    "    \n",
    "    return _duplicate(root.left, ele) and _duplicate(root.right, ele)\n",
    "\n",
    "def duplicate(root):\n",
    "    val = _duplicate(root)\n",
    "    if val:\n",
    "        return \"No\"\n",
    "    return \"Yes\"\n",
    "\n",
    "# root = Node(1)\n",
    "# n1 = Node(2)\n",
    "# n2 = Node(3)\n",
    "# n3 = Node(2)\n",
    "\n",
    "# root.left = n1\n",
    "# root.right = n2\n",
    "# n2.right = n3\n",
    "\n",
    "# print(duplicate(root))\n",
    "\n",
    "root = Node(1)\n",
    "n1 = Node(20)\n",
    "n2 = Node(3)\n",
    "n3 = Node(4)\n",
    "\n",
    "root.left = n1\n",
    "root.right = n2\n",
    "n2.right = n3\n",
    "    \n",
    "print(duplicate(root))"
   ]
  },
  {
   "cell_type": "code",
   "execution_count": 31,
   "metadata": {},
   "outputs": [
    {
     "name": "stdout",
     "output_type": "stream",
     "text": [
      "4\n",
      "5\n",
      "8\n"
     ]
    }
   ],
   "source": [
    "#7\n",
    "def distance(root, k, level = 0):\n",
    "    if root == None:\n",
    "        return None\n",
    "    \n",
    "    if level == k:\n",
    "        print(root.elem)\n",
    "    \n",
    "    distance(root.left, k, level + 1)\n",
    "    distance(root.right, k, level + 1)\n",
    "    \n",
    "root = Node(1)\n",
    "n1 = Node(2)\n",
    "n2 = Node(3)\n",
    "n3 = Node(4)\n",
    "n4 = Node(5)\n",
    "n5 = Node(8)\n",
    "\n",
    "root.left = n1\n",
    "root.right = n2\n",
    "\n",
    "n1.left = n3\n",
    "n1.right = n4\n",
    "n2.left = n5\n",
    "\n",
    "distance(root, 2)"
   ]
  },
  {
   "cell_type": "code",
   "execution_count": 36,
   "metadata": {},
   "outputs": [
    {
     "name": "stdout",
     "output_type": "stream",
     "text": [
      "4\n",
      "2\n",
      "1\n"
     ]
    },
    {
     "data": {
      "text/plain": [
       "True"
      ]
     },
     "execution_count": 36,
     "metadata": {},
     "output_type": "execute_result"
    }
   ],
   "source": [
    "#8\n",
    "def ancestors(root, key):\n",
    "    if root == None:\n",
    "        return False\n",
    "    \n",
    "    if root.elem == key:\n",
    "        return True\n",
    "    \n",
    "    val = ancestors(root.left, key) or ancestors(root.right, key)\n",
    "    \n",
    "    if val == True:\n",
    "        print(root.elem)\n",
    "        \n",
    "    return val\n",
    "\n",
    "root = Node(1)\n",
    "n1 = Node(2)\n",
    "n2 = Node(3)\n",
    "n3 = Node(4)\n",
    "n4 = Node(5)\n",
    "n5 = Node(7)\n",
    "\n",
    "root.left = n1\n",
    "root.right = n2\n",
    "\n",
    "n1.left = n3\n",
    "n1.right = n4\n",
    "n3.left = n5\n",
    "\n",
    "ancestors(root, 7)"
   ]
  },
  {
   "cell_type": "code",
   "execution_count": 43,
   "metadata": {},
   "outputs": [
    {
     "name": "stdout",
     "output_type": "stream",
     "text": [
      "3\n"
     ]
    }
   ],
   "source": [
    "#9\n",
    "def _one_child(root, val = False):\n",
    "    if root == None:\n",
    "        return val\n",
    "    \n",
    "    if ((root.left == None and root.right != None) or\n",
    "        (root.left != None and root.right == None)):\n",
    "        print(root.elem)\n",
    "        val = True\n",
    "        \n",
    "    return _one_child(root.left, val) or _one_child(root.right, val)\n",
    "    \n",
    "def one_child(root):\n",
    "    if not _one_child(root):\n",
    "        print(\"-1\")\n",
    "        \n",
    "        \n",
    "root = Node(2)\n",
    "n1 = Node(3)\n",
    "n2 = Node(5)\n",
    "n3 = Node(7)\n",
    "n4 = Node(8)\n",
    "n5 = Node(6)\n",
    "\n",
    "root.left = n1\n",
    "root.right = n2\n",
    "\n",
    "n1.left = n3\n",
    "n2.left = n4\n",
    "n2.right = n5\n",
    "\n",
    "one_child(root)"
   ]
  },
  {
   "cell_type": "code",
   "execution_count": 46,
   "metadata": {},
   "outputs": [
    {
     "name": "stdout",
     "output_type": "stream",
     "text": [
      "Yes\n",
      "No\n"
     ]
    }
   ],
   "source": [
    "#10\n",
    "def _skewed_tree(root):\n",
    "    if root == None:\n",
    "        return True\n",
    "    \n",
    "    if root.left != None and root.right != None:\n",
    "        return False\n",
    "    \n",
    "    return _skewed_tree(root.left) and _skewed_tree(root.right)\n",
    "\n",
    "def skewed_tree(root):\n",
    "    if _skewed_tree(root):\n",
    "        return \"Yes\"\n",
    "    return \"No\"\n",
    "\n",
    "root = Node(5)\n",
    "n1 = Node(4)\n",
    "n2 = Node(3)\n",
    "n3 = Node(2)\n",
    "\n",
    "root.left = n1\n",
    "n1.right = n2\n",
    "n2.left = n3\n",
    "\n",
    "print(skewed_tree(root))\n",
    "\n",
    "\n",
    "root = Node(5)\n",
    "n1 = Node(4)\n",
    "n2 = Node(3)\n",
    "n3 = Node(2)\n",
    "n4 = Node(4)\n",
    "\n",
    "root.left = n1\n",
    "n1.right = n2\n",
    "n2.left = n3\n",
    "n2.right = n4\n",
    "\n",
    "print(skewed_tree(root))\n"
   ]
  },
  {
   "cell_type": "code",
   "execution_count": 49,
   "metadata": {},
   "outputs": [
    {
     "name": "stdout",
     "output_type": "stream",
     "text": [
      "2\n"
     ]
    }
   ],
   "source": [
    "#11\n",
    "def min_depth(root, depth = 0):\n",
    "    if root == None:\n",
    "        return depth\n",
    "    \n",
    "    left = min_depth(root.left, depth+1)\n",
    "    right = min_depth(root.right, depth+1)\n",
    "    \n",
    "    return min(left, right)\n",
    "\n",
    "root = Node(1)\n",
    "n1 = Node(2)\n",
    "n2 = Node(3)\n",
    "n3 = Node(4)\n",
    "n4 = Node(5)\n",
    "n5 = Node(7)\n",
    "\n",
    "root.left = n1\n",
    "root.right = n2\n",
    "\n",
    "n1.left = n3\n",
    "n1.right = n4\n",
    "n3.left = n5\n",
    "\n",
    "print(min_depth(root))"
   ]
  },
  {
   "cell_type": "code",
   "execution_count": 51,
   "metadata": {},
   "outputs": [
    {
     "name": "stdout",
     "output_type": "stream",
     "text": [
      "10\n",
      "8\n"
     ]
    }
   ],
   "source": [
    "#12\n",
    "def full_nodes(root):\n",
    "    if root == None:\n",
    "        return \n",
    "    \n",
    "    if root.left and root.right:\n",
    "        print(root.elem)\n",
    "        \n",
    "    full_nodes(root.left)\n",
    "    full_nodes(root.right)\n",
    "    \n",
    "root = Node(10)\n",
    "n1 = Node(8)\n",
    "n2 = Node(2)\n",
    "n3 = Node(3)\n",
    "n4 = Node(5)\n",
    "n5 = Node(7)\n",
    "\n",
    "root.left = n1\n",
    "root.right = n2\n",
    "\n",
    "n1.left = n3\n",
    "n1.right = n4\n",
    "n2.left = n5\n",
    "\n",
    "full_nodes(root)"
   ]
  },
  {
   "cell_type": "code",
   "execution_count": 54,
   "metadata": {},
   "outputs": [
    {
     "name": "stdout",
     "output_type": "stream",
     "text": [
      "1-->2-->5\n"
     ]
    }
   ],
   "source": [
    "#13\n",
    "def path_finder(root, x, path = []):\n",
    "    path += [root.elem]\n",
    "    if root.elem == x:\n",
    "        return path\n",
    "    \n",
    "    if root.left:\n",
    "        path = path_finder(root.left, x, path)\n",
    "        \n",
    "    if root.right:\n",
    "        path = path_finder(root.right, x, path)\n",
    "        \n",
    "    if path[-1] == x:\n",
    "        return path\n",
    "    \n",
    "    path.pop()\n",
    "    return path\n",
    "  \n",
    "def path(root, x):\n",
    "    pathway = path_finder(root, x)\n",
    "    if pathway:\n",
    "        main_str = \"\"\n",
    "        for i in pathway:\n",
    "            main_str += str(i) + \"-->\"\n",
    "        print(main_str[:-3])\n",
    "    else:\n",
    "        print(\"No path\")\n",
    "\n",
    "root = Node(1)\n",
    "n1 = Node(2)\n",
    "n2 = Node(3)\n",
    "n3 = Node(4)\n",
    "n4 = Node(5)\n",
    "n5 = Node(6)\n",
    "n6 = Node(7)\n",
    "\n",
    "root.left = n1\n",
    "root.right = n2\n",
    "\n",
    "n1.left = n3\n",
    "n1.right = n4\n",
    "n2.left = n5\n",
    "n2.right = n6\n",
    "\n",
    "path(root, 5)\n",
    "    "
   ]
  },
  {
   "cell_type": "code",
   "execution_count": 56,
   "metadata": {},
   "outputs": [
    {
     "name": "stdout",
     "output_type": "stream",
     "text": [
      "28.0\n"
     ]
    }
   ],
   "source": [
    "#14\n",
    "def operations(root):\n",
    "    if root.left == None and root.right == None:\n",
    "        return root.elem\n",
    "    \n",
    "    left = operations(root.left)\n",
    "    right = operations(root.right)\n",
    "    \n",
    "    if root.elem == \"+\":\n",
    "        return left + right\n",
    "    if root.elem == \"-\":\n",
    "        return left - right\n",
    "    if root.elem == \"*\":\n",
    "        return left * right\n",
    "    if root.elem == \"/\":\n",
    "        return left / right\n",
    "    \n",
    "    \n",
    "root = Node(\"+\")\n",
    "n1 = Node(\"*\")\n",
    "n2 = Node(\"/\")\n",
    "n3 = Node(\"-\")\n",
    "n4 = Node(5)\n",
    "n5 = Node(21)\n",
    "n6 = Node(7)\n",
    "n7 = Node(10)\n",
    "n8 = Node(5)\n",
    "\n",
    "root.left = n1\n",
    "root.right = n2\n",
    "\n",
    "n1.left = n3\n",
    "n1.right = n4\n",
    "n2.left = n5\n",
    "n2.right = n6\n",
    "n3.left = n7\n",
    "n3.right = n8\n",
    "\n",
    "print(operations(root))\n",
    "    "
   ]
  },
  {
   "cell_type": "markdown",
   "metadata": {},
   "source": [
    "BST"
   ]
  },
  {
   "cell_type": "code",
   "execution_count": 57,
   "metadata": {},
   "outputs": [],
   "source": [
    "def insert(root, val):\n",
    "    if val < root.elem:\n",
    "        if root.left:\n",
    "            insert(root.left, val)\n",
    "        else:\n",
    "            root.left = Node(val)\n",
    "            \n",
    "    if val > root.elem:\n",
    "        if root.right:\n",
    "            insert(root.right, val)\n",
    "        else:\n",
    "            root.right = Node(val)"
   ]
  },
  {
   "cell_type": "code",
   "execution_count": 58,
   "metadata": {},
   "outputs": [
    {
     "name": "stdout",
     "output_type": "stream",
     "text": [
      "1\n",
      "0\n"
     ]
    }
   ],
   "source": [
    "#1\n",
    "def check_BST(root):\n",
    "    if root == None:\n",
    "        return 1\n",
    "    \n",
    "    if root.left:\n",
    "        if root.left.elem > root.elem:\n",
    "            return 0\n",
    "        \n",
    "    if root.right:\n",
    "        if root.right.elem < root.elem:\n",
    "            return 0\n",
    "        \n",
    "    return check_BST(root.left) and check_BST(root.right)\n",
    "\n",
    "\n",
    "root = Node(2)\n",
    "n1 = Node(1)\n",
    "n2 = Node(3)\n",
    "root.left = n1\n",
    "root.right = n2\n",
    "\n",
    "print(check_BST(root))\n",
    "\n",
    "root = Node(2)\n",
    "n1 = Node(7)\n",
    "n2 = Node(6)\n",
    "n3 = Node(5)\n",
    "n4 = Node(9)\n",
    "n5 = Node(2)\n",
    "n6 = Node(6)\n",
    "\n",
    "root.right = n1\n",
    "n1.right = n2\n",
    "n2.right = n3\n",
    "n3.right = n4\n",
    "n4.right = n5\n",
    "n5.right = n6\n",
    "\n",
    "print(check_BST(root))"
   ]
  },
  {
   "cell_type": "code",
   "execution_count": 62,
   "metadata": {},
   "outputs": [
    {
     "name": "stdout",
     "output_type": "stream",
     "text": [
      "4 2 1 3 6 5 7 "
     ]
    }
   ],
   "source": [
    "#2\n",
    "def balanced_bin_tree(arr, root = None):\n",
    "    if len(arr) == 0:\n",
    "        return root\n",
    "    \n",
    "    idx = len(arr) // 2\n",
    "    if root == None:\n",
    "        root = Node(arr[idx])\n",
    "    else:\n",
    "        insert(root, arr[idx])\n",
    "        \n",
    "    balanced_bin_tree(arr[:idx], root)\n",
    "    balanced_bin_tree(arr[idx + 1: ], root)\n",
    "    \n",
    "    return root\n",
    "\n",
    "\n",
    "nums = [1, 2, 3, 4, 5, 6, 7]\n",
    "root = balanced_bin_tree(nums)\n",
    "preorder(root)"
   ]
  },
  {
   "cell_type": "code",
   "execution_count": 67,
   "metadata": {},
   "outputs": [
    {
     "name": "stdout",
     "output_type": "stream",
     "text": [
      "Inorder Traversal: 4 8 10 12 14 20 22 \n",
      "Output: 10\n"
     ]
    }
   ],
   "source": [
    "#3\n",
    "def min_val(root):\n",
    "    if root.left:\n",
    "        return min_val(root.left)\n",
    "    return root.elem\n",
    "\n",
    "\n",
    "def io_succes(root, k):\n",
    "    if root == None:\n",
    "        return \n",
    "    \n",
    "    if root.elem == k:\n",
    "        if root.right:   \n",
    "            min_v = min_val(root.right)\n",
    "            return min_v\n",
    "        \n",
    "    return io_succes(root.left, k) or io_succes(root.right, k)\n",
    "\n",
    "arr = [20, 8, 22, 4, 12, 10, 14]\n",
    "root = Node(arr[0])\n",
    "for i in range(1, len(arr)):\n",
    "    insert(root, arr[i])\n",
    "    \n",
    "print(\"Inorder Traversal:\", end=\" \")\n",
    "inorder(root)\n",
    "print()\n",
    "print(\"Output: \", end=\"\")\n",
    "print(io_succes(root, 8))"
   ]
  },
  {
   "cell_type": "code",
   "execution_count": 74,
   "metadata": {},
   "outputs": [
    {
     "name": "stdout",
     "output_type": "stream",
     "text": [
      "4\n"
     ]
    }
   ],
   "source": [
    "#4\n",
    "def _kth_element(root, k, curr_k = 0):\n",
    "    if root.left == None or root.right == None:\n",
    "        curr_k += 1\n",
    "        if curr_k == k:\n",
    "            return root.elem\n",
    "        return curr_k\n",
    "    \n",
    "    curr_k = _kth_element(root.left, curr_k)\n",
    "    \n",
    "    if type(curr_k) != int:\n",
    "        return curr_k\n",
    "    \n",
    "    curr_k += 1\n",
    "    \n",
    "    if curr_k == k:\n",
    "        return root\n",
    "    \n",
    "    curr_k = _kth_element(root.right, curr_k)\n",
    "        \n",
    "    return curr_k\n",
    "\n",
    "def kth_element(root, k):\n",
    "    ele = _kth_element(root, k)\n",
    "    if type(ele) != int:\n",
    "        print(ele.elem)\n",
    "    else:\n",
    "        print(f\"{k}th largest element doesn't exist\")\n",
    "\n",
    "root = Node(4)\n",
    "n1 = Node(2)\n",
    "n2 = Node(9)\n",
    "\n",
    "root.left = n1\n",
    "root.right = n2\n",
    "\n",
    "kth_element(root, 2)"
   ]
  }
 ],
 "metadata": {
  "kernelspec": {
   "display_name": "Python 3",
   "language": "python",
   "name": "python3"
  },
  "language_info": {
   "codemirror_mode": {
    "name": "ipython",
    "version": 3
   },
   "file_extension": ".py",
   "mimetype": "text/x-python",
   "name": "python",
   "nbconvert_exporter": "python",
   "pygments_lexer": "ipython3",
   "version": "3.11.2"
  }
 },
 "nbformat": 4,
 "nbformat_minor": 2
}
