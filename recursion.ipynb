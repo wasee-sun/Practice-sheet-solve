{
 "cells": [
  {
   "cell_type": "markdown",
   "metadata": {},
   "source": [
    "Recursion problems\n",
    "https://drive.google.com/file/d/1PJeB9_CesxWshOItu5erNZt6-DABwa68/view"
   ]
  },
  {
   "cell_type": "code",
   "execution_count": 3,
   "metadata": {},
   "outputs": [
    {
     "name": "stdout",
     "output_type": "stream",
     "text": [
      "9\n",
      "13\n",
      "3\n"
     ]
    }
   ],
   "source": [
    "#1\n",
    "def sumDigits(num):\n",
    "    if num == 0:\n",
    "        return 0\n",
    "    mod = num % 10 \n",
    "    num = num // 10 \n",
    "    return mod + sumDigits(num)\n",
    "\n",
    "\n",
    "print(sumDigits(126))\n",
    "print(sumDigits(49))\n",
    "print(sumDigits(12))"
   ]
  },
  {
   "cell_type": "code",
   "execution_count": 4,
   "metadata": {},
   "outputs": [
    {
     "name": "stdout",
     "output_type": "stream",
     "text": [
      "0\n",
      "2\n",
      "5\n"
     ]
    }
   ],
   "source": [
    "#2\n",
    "def bunnyEars(num):\n",
    "    if num == 0:\n",
    "        return 0\n",
    "    \n",
    "    if num % 2 == 0: \n",
    "        return 3 + bunnyEars(num - 1)\n",
    "    \n",
    "    if num % 2 == 1: \n",
    "        return 2 + bunnyEars(num - 1)\n",
    "    \n",
    "print(bunnyEars(0))\n",
    "print(bunnyEars(1))\n",
    "print(bunnyEars(2))"
   ]
  },
  {
   "cell_type": "code",
   "execution_count": 5,
   "metadata": {},
   "outputs": [
    {
     "name": "stdout",
     "output_type": "stream",
     "text": [
      "2\n",
      "1\n",
      "0\n"
     ]
    }
   ],
   "source": [
    "#3\n",
    "def count7(num):\n",
    "    if num == 0:\n",
    "        return 0\n",
    "    mod = num % 10\n",
    "    num = num // 10\n",
    "    if mod == 7:\n",
    "        mod = 1\n",
    "    else:\n",
    "        mod = 0\n",
    "    return mod + count7(num)\n",
    "\n",
    "print(count7(717))\n",
    "print(count7(7))\n",
    "print(count7(123))"
   ]
  },
  {
   "cell_type": "code",
   "execution_count": 8,
   "metadata": {},
   "outputs": [
    {
     "name": "stdout",
     "output_type": "stream",
     "text": [
      "4\n",
      "3\n",
      "0\n"
     ]
    }
   ],
   "source": [
    "#4\n",
    "def countX(stri):\n",
    "    if stri == \"\":\n",
    "        return 0\n",
    "    n = 0\n",
    "    if stri[0] == \"x\":\n",
    "        n = 1\n",
    "        \n",
    "    return n + countX(stri[1:])\n",
    "\n",
    "print(countX(\"xxhixx\"))\n",
    "print(countX(\"xhixhix\"))\n",
    "print(countX(\"hi\"))"
   ]
  },
  {
   "cell_type": "code",
   "execution_count": 7,
   "metadata": {},
   "outputs": [
    {
     "name": "stdout",
     "output_type": "stream",
     "text": [
      "x3.14x\n",
      "3.143.14\n",
      "3.14p\n"
     ]
    }
   ],
   "source": [
    "#5\n",
    "def countPi(stri):\n",
    "    if stri == \"\":\n",
    "        return \"\"\n",
    "    \n",
    "    n = stri[0]\n",
    "    if len(stri) > 1:\n",
    "        if n + stri[1] == \"pi\":\n",
    "            n = \"3.14\"\n",
    "            return n + countPi(stri[2:])\n",
    "        \n",
    "    return n + countPi(stri[1:])\n",
    "\n",
    "\n",
    "print(countPi(\"xpix\"))\n",
    "print(countPi(\"pipi\"))\n",
    "print(countPi(\"pip\"))"
   ]
  },
  {
   "cell_type": "code",
   "execution_count": 12,
   "metadata": {},
   "outputs": [
    {
     "name": "stdout",
     "output_type": "stream",
     "text": [
      "1\n",
      "2\n",
      "0\n"
     ]
    }
   ],
   "source": [
    "#6\n",
    "def array11(array, index):\n",
    "    if index == len(array):\n",
    "        return 0\n",
    "    \n",
    "    if array[index] == 11:\n",
    "        return 1 + array11(array, index + 1)\n",
    "    \n",
    "    return 0 + array11(array, index + 1)\n",
    "\n",
    "print(array11([1, 2, 11], 0))\n",
    "print(array11([11, 11], 0))\n",
    "print(array11([1, 2, 3, 4], 0))"
   ]
  },
  {
   "cell_type": "code",
   "execution_count": 13,
   "metadata": {},
   "outputs": [
    {
     "name": "stdout",
     "output_type": "stream",
     "text": [
      "hel*lo\n",
      "x*xy*y\n",
      "a*a*a*a\n"
     ]
    }
   ],
   "source": [
    "#7\n",
    "def pairStar(stri):\n",
    "    if len(stri) == 1:\n",
    "        return stri[0]\n",
    "    \n",
    "    n = stri[0]\n",
    "    if stri[1] == n:\n",
    "        n += \"*\"\n",
    "    \n",
    "    return n + pairStar(stri[1:])\n",
    "\n",
    "print(pairStar(\"hello\"))\n",
    "print(pairStar(\"xxyy\"))\n",
    "print(pairStar(\"aaaa\"))"
   ]
  },
  {
   "cell_type": "code",
   "execution_count": 20,
   "metadata": {},
   "outputs": [
    {
     "name": "stdout",
     "output_type": "stream",
     "text": [
      "1\n",
      "2\n",
      "2\n"
     ]
    }
   ],
   "source": [
    "#8\n",
    "def countAbc(stri):\n",
    "    if stri == \"\":\n",
    "        return 0\n",
    "    \n",
    "    n = 0\n",
    "    if len(stri) > 2:\n",
    "        new = stri[:3]\n",
    "        if new == \"abc\" or new == \"aba\":\n",
    "            n = 1\n",
    "            return n + countAbc(stri[3:])\n",
    "        \n",
    "    return n + countAbc(stri[1:])\n",
    "\n",
    "\n",
    "print(countAbc(\"abc\"))\n",
    "print(countAbc(\"abcxxabc\"))\n",
    "print(countAbc(\"abaxxabc\"))"
   ]
  },
  {
   "cell_type": "code",
   "execution_count": 23,
   "metadata": {},
   "outputs": [
    {
     "name": "stdout",
     "output_type": "stream",
     "text": [
      "1\n",
      "2\n",
      "0\n"
     ]
    }
   ],
   "source": [
    "#9\n",
    "def countHi2(stri):\n",
    "    if stri == \"\":\n",
    "        return 0\n",
    "    \n",
    "    n = 0\n",
    "    if len(stri) > 2:\n",
    "        new = stri[1:3]\n",
    "        if new == \"hi\" and stri[0] != \"x\":\n",
    "            n = 1\n",
    "            return n + countHi2(stri[3:])\n",
    "        \n",
    "    return n + countHi2(stri[1:])\n",
    "\n",
    "\n",
    "print(countHi2(\"ahixhi\"))\n",
    "print(countHi2(\"ahibhi\"))\n",
    "print(countHi2(\"xhixhi\"))"
   ]
  },
  {
   "cell_type": "code",
   "execution_count": 25,
   "metadata": {},
   "outputs": [
    {
     "name": "stdout",
     "output_type": "stream",
     "text": [
      "2\n",
      "1\n",
      "0\n"
     ]
    }
   ],
   "source": [
    "#10\n",
    "def strCount(stri, sub_s):\n",
    "    if stri == \"\":\n",
    "        return 0\n",
    "    \n",
    "    n = 0\n",
    "    if len(stri) > len(sub_s) - 1:\n",
    "        new = stri[:3]\n",
    "        if new == sub_s:\n",
    "            n = 1\n",
    "            return n + strCount(stri[3:], sub_s)\n",
    "        \n",
    "    return n + strCount(stri[1:], sub_s)\n",
    "            \n",
    "    \n",
    "print(strCount(\"catcowcat\", \"cat\"))\n",
    "print(strCount(\"catcowcat\", \"cow\"))\n",
    "print(strCount(\"catcowcat\", \"dog\"))"
   ]
  },
  {
   "cell_type": "code",
   "execution_count": 27,
   "metadata": {},
   "outputs": [
    {
     "name": "stdout",
     "output_type": "stream",
     "text": [
      "0\n",
      "2\n",
      "4\n"
     ]
    }
   ],
   "source": [
    "#11\n",
    "def bunnyEars(num):\n",
    "    if num == 0:\n",
    "        return 0\n",
    "    return 2 + bunnyEars(num - 1)\n",
    "\n",
    "print(bunnyEars(0))\n",
    "print(bunnyEars(1))\n",
    "print(bunnyEars(2))"
   ]
  },
  {
   "cell_type": "code",
   "execution_count": 30,
   "metadata": {},
   "outputs": [
    {
     "name": "stdout",
     "output_type": "stream",
     "text": [
      "0\n",
      "1\n",
      "3\n"
     ]
    }
   ],
   "source": [
    "#12\n",
    "def traingle(num):\n",
    "    if num == 0:\n",
    "        return 0\n",
    "    if num == 1:\n",
    "        return 1\n",
    "    \n",
    "    return num + traingle(num - 1)\n",
    "\n",
    "print(traingle(0))\n",
    "print(traingle(1))\n",
    "print(traingle(2))"
   ]
  },
  {
   "cell_type": "code",
   "execution_count": 33,
   "metadata": {},
   "outputs": [
    {
     "name": "stdout",
     "output_type": "stream",
     "text": [
      "ab\n",
      "abc\n",
      "\n"
     ]
    }
   ],
   "source": [
    "#13\n",
    "def noX(stri):\n",
    "    if stri == \"\":\n",
    "        return \"\"\n",
    "    \n",
    "    if stri[0] == \"x\":\n",
    "        return noX(stri[1:])\n",
    "    \n",
    "    return stri[0] + noX(stri[1:])\n",
    "\n",
    "print(noX(\"xaxb\"))\n",
    "print(noX(\"abc\"))\n",
    "print(noX(\"xx\"))"
   ]
  },
  {
   "cell_type": "code",
   "execution_count": 34,
   "metadata": {},
   "outputs": [
    {
     "name": "stdout",
     "output_type": "stream",
     "text": [
      "True\n",
      "True\n",
      "False\n"
     ]
    }
   ],
   "source": [
    "#14\n",
    "def array220(arr, index):\n",
    "    if index == len(arr):\n",
    "        return False\n",
    "    \n",
    "    if arr[index] % 10 == 0:\n",
    "        return True\n",
    "    \n",
    "    return array220(arr, index + 1)\n",
    "\n",
    "print(array220([1, 2, 20], 0))\n",
    "print(array220([3, 30], 0))\n",
    "print(array220([3], 0))"
   ]
  },
  {
   "cell_type": "code",
   "execution_count": 36,
   "metadata": {},
   "outputs": [
    {
     "name": "stdout",
     "output_type": "stream",
     "text": [
      "rexx\n",
      "hixxxx\n",
      "hihixxx\n"
     ]
    }
   ],
   "source": [
    "#15\n",
    "def endX(arr):\n",
    "    if arr == \"\":\n",
    "        return \"\"\n",
    "    \n",
    "    result = \"\"\n",
    "    if arr[0] != \"x\":\n",
    "        result += arr[0]\n",
    "        \n",
    "    result += endX(arr[1:])\n",
    "    \n",
    "    if arr[0] == \"x\":\n",
    "        result += arr[0]\n",
    "        \n",
    "    return result\n",
    "\n",
    "print(endX(\"xxre\"))\n",
    "print(endX(\"xxhixx\"))\n",
    "print(endX(\"xhixhix\"))"
   ]
  },
  {
   "cell_type": "code",
   "execution_count": 24,
   "metadata": {},
   "outputs": [
    {
     "name": "stdout",
     "output_type": "stream",
     "text": [
      "2\n",
      "3\n",
      "1\n"
     ]
    }
   ],
   "source": [
    "#16\n",
    "def count11(stri):\n",
    "    if stri == \"\":\n",
    "        return 0\n",
    "    \n",
    "    n = 0\n",
    "    if len(stri) > 1:\n",
    "        if stri[:2] == \"11\":\n",
    "            if len(stri) > 2:\n",
    "                if stri[2] == \"1\":\n",
    "                    return n + count11(stri[1:])\n",
    "            n = 1\n",
    "            return n + count11(stri[2:])\n",
    "    \n",
    "    return n + count11(stri[1:])\n",
    "\n",
    "print(count11(\"11abc11\"))\n",
    "print(count11(\"abc11x11x11\"))\n",
    "print(count11(\"111\"))"
   ]
  },
  {
   "cell_type": "code",
   "execution_count": 43,
   "metadata": {},
   "outputs": [
    {
     "name": "stdout",
     "output_type": "stream",
     "text": [
      "(abc)\n",
      "(hello)\n",
      "(xy)\n"
     ]
    }
   ],
   "source": [
    "#17\n",
    "def parenBit(stri, add = False):\n",
    "    if stri == \"\":\n",
    "        return \"\"\n",
    "    \n",
    "    if stri[0] == \"(\":\n",
    "        add = True\n",
    "        \n",
    "    if stri[0] == \")\":\n",
    "        add = False\n",
    "    \n",
    "    result = parenBit(stri[1:], add)\n",
    "    \n",
    "    if add == True or stri[0] == \")\":\n",
    "        return stri[0] + result\n",
    "    \n",
    "    return result\n",
    "        \n",
    "        \n",
    "print(parenBit(\"xyz(abc)123\"))\n",
    "print(parenBit(\"x(hello)\"))\n",
    "print(parenBit(\"(xy)1\"))"
   ]
  },
  {
   "cell_type": "code",
   "execution_count": 1,
   "metadata": {},
   "outputs": [
    {
     "name": "stdout",
     "output_type": "stream",
     "text": [
      "True\n",
      "False\n",
      "True\n"
     ]
    }
   ],
   "source": [
    "#18\n",
    "def strCount(stri, sub_s):\n",
    "    if stri == \"\":\n",
    "        return 0\n",
    "    \n",
    "    n = 0\n",
    "    if len(stri) > len(sub_s) - 1:\n",
    "        new = stri[:len(sub_s)]\n",
    "        if new == sub_s:\n",
    "            n = 1\n",
    "            return n + strCount(stri[len(sub_s):], sub_s)\n",
    "        \n",
    "    return n + strCount(stri[1:], sub_s)\n",
    "\n",
    "def strCopies(stri, sub_s, times):\n",
    "    result = strCount(stri, sub_s)\n",
    "    if result == times:\n",
    "        return True\n",
    "    return False\n",
    "            \n",
    "    \n",
    "print(strCopies(\"catcowcat\", \"cat\", 2))\n",
    "print(strCopies(\"catcowcat\", \"cow\", 2))\n",
    "print(strCopies(\"catcowcat\", \"cow\", 1))"
   ]
  },
  {
   "cell_type": "code",
   "execution_count": 52,
   "metadata": {},
   "outputs": [
    {
     "name": "stdout",
     "output_type": "stream",
     "text": [
      "codey\n",
      "yyhiyy\n",
      "yhiyhiy\n"
     ]
    }
   ],
   "source": [
    "#19\n",
    "def changeXY(stri):\n",
    "    if stri == \"\":\n",
    "        return \"\"\n",
    "    \n",
    "    let = stri[0]\n",
    "    if let == \"x\":\n",
    "        let = \"y\"\n",
    "    \n",
    "    return let + changeXY(stri[1:])\n",
    "\n",
    "print(changeXY(\"codex\"))\n",
    "print(changeXY(\"xxhixx\"))\n",
    "print(changeXY(\"xhixhix\"))"
   ]
  },
  {
   "cell_type": "code",
   "execution_count": 53,
   "metadata": {},
   "outputs": [
    {
     "name": "stdout",
     "output_type": "stream",
     "text": [
      "True\n",
      "False\n",
      "True\n"
     ]
    }
   ],
   "source": [
    "#20\n",
    "def _array6(array, index):\n",
    "    if index == len(array):\n",
    "        return 0\n",
    "    \n",
    "    if array[index] == 6:\n",
    "        return 1 + _array6(array, index + 1)\n",
    "    \n",
    "    return 0 + _array6(array, index + 1)\n",
    "\n",
    "def array6(array, index):\n",
    "    result = _array6(array, index)\n",
    "    if result == 0:\n",
    "        return False\n",
    "    return True\n",
    "\n",
    "print(array6([1, 6, 4], 0))\n",
    "print(array6([1, 4], 0))\n",
    "print(array6([6], 0))"
   ]
  },
  {
   "cell_type": "code",
   "execution_count": 54,
   "metadata": {},
   "outputs": [
    {
     "name": "stdout",
     "output_type": "stream",
     "text": [
      "h*e*l*l*o\n",
      "a*b*c\n",
      "a*b\n"
     ]
    }
   ],
   "source": [
    "#21\n",
    "def allStar(stri):\n",
    "    if len(stri) == 1:\n",
    "        return stri[0]\n",
    "    \n",
    "    return stri[0] + \"*\" + allStar(stri[1:])\n",
    "\n",
    "print(allStar(\"hello\"))\n",
    "print(allStar(\"abc\"))\n",
    "print(allStar(\"ab\"))"
   ]
  },
  {
   "cell_type": "code",
   "execution_count": 55,
   "metadata": {},
   "outputs": [
    {
     "name": "stdout",
     "output_type": "stream",
     "text": [
      "1\n",
      "2\n",
      "1\n"
     ]
    }
   ],
   "source": [
    "#22\n",
    "def countPairs(stri):\n",
    "    if stri == \"\":\n",
    "        return 0\n",
    "    \n",
    "    n = 0\n",
    "    if len(stri) > 2:\n",
    "        if stri[0]  == stri[2]:\n",
    "            n = 1\n",
    "            return n + countPairs(stri[1:])\n",
    "    \n",
    "    return n + countPairs(stri[1:])\n",
    "\n",
    "print(countPairs(\"axa\"))\n",
    "print(countPairs(\"axax\"))\n",
    "print(countPairs(\"axbx\"))"
   ]
  },
  {
   "cell_type": "code",
   "execution_count": 25,
   "metadata": {},
   "outputs": [
    {
     "name": "stdout",
     "output_type": "stream",
     "text": [
      "zay\n",
      "abcd\n",
      "Helo\n"
     ]
    }
   ],
   "source": [
    "#23\n",
    "def stringCheck(stri, charc):\n",
    "    if stri == \"\":\n",
    "        return True\n",
    "    \n",
    "    if stri[0] == charc:\n",
    "        return False\n",
    "    \n",
    "    return stringCheck(stri[1:], charc)\n",
    "\n",
    "def stringClean(stri):\n",
    "    if stri == \"\":\n",
    "        return \"\"\n",
    "    \n",
    "    result = stringClean(stri[1:])\n",
    "    \n",
    "    check = stringCheck(result, stri[0])\n",
    "    \n",
    "    if check:\n",
    "        return stri[0] + result\n",
    "    return result\n",
    "\n",
    "print(stringClean(\"yyzzza\"))\n",
    "print(stringClean(\"abbbcdd\"))\n",
    "print(stringClean(\"Hello\"))"
   ]
  },
  {
   "cell_type": "code",
   "execution_count": 61,
   "metadata": {},
   "outputs": [
    {
     "name": "stdout",
     "output_type": "stream",
     "text": [
      "True\n",
      "True\n",
      "False\n",
      "True\n"
     ]
    }
   ],
   "source": [
    "#24\n",
    "def nestParen(stri):\n",
    "    if stri == \"\":\n",
    "        return True\n",
    "    \n",
    "    if len(stri) == 1:\n",
    "        if stri[0] != \"(\" or stri[0] != \")\":\n",
    "            return True\n",
    "        return False\n",
    "    \n",
    "    if stri[0] == \"(\" and stri[-1] == \")\":\n",
    "        return nestParen(stri[1:-1])\n",
    "    return False\n",
    "\n",
    "print(nestParen(\"(())\"))\n",
    "print(nestParen(\"((()))\"))\n",
    "print(nestParen(\"(((x))\"))\n",
    "print(nestParen(\"(((x)))\"))"
   ]
  },
  {
   "cell_type": "code",
   "execution_count": 27,
   "metadata": {},
   "outputs": [
    {
     "name": "stdout",
     "output_type": "stream",
     "text": [
      "9\n",
      "3\n",
      "9\n",
      "12\n"
     ]
    }
   ],
   "source": [
    "#25 \n",
    "\n",
    "def strfound(stri, sub_s):\n",
    "    if stri == \"\":\n",
    "        return \"\", 0\n",
    "    \n",
    "    result, n = strfound(stri[1:], sub_s)\n",
    "    if len(stri) > len(sub_s) - 1:\n",
    "        new = stri[:len(sub_s)]\n",
    "        if new == sub_s:\n",
    "            if result != \"\":\n",
    "                new = stri[:-n]\n",
    "            n = len(stri)\n",
    "            return new + result, n\n",
    "            \n",
    "    return result, n\n",
    "\n",
    "def strDist(stri, sub_s):\n",
    "    result = strfound(stri, sub_s)\n",
    "    return len(result[0])\n",
    "    \n",
    "print(strDist(\"catcowcat\", \"cat\"))\n",
    "print(strDist(\"catcowcat\", \"cow\"))\n",
    "print(strDist(\"cccatcowcatxx\", \"cat\"))\n",
    "print(strDist(\"cccatcowcatcat\", \"cat\"))"
   ]
  },
  {
   "cell_type": "code",
   "execution_count": 1,
   "metadata": {},
   "outputs": [
    {
     "name": "stdout",
     "output_type": "stream",
     "text": [
      "True\n",
      "True\n",
      "False\n"
     ]
    }
   ],
   "source": [
    "#26\n",
    "def create_sum(arr):\n",
    "    if len(arr) == 1:\n",
    "        return arr[0]\n",
    "    return arr[0] + create_sum(arr[1:])\n",
    "\n",
    "def checkSum(item, arr, goal):\n",
    "    summ = create_sum(arr)\n",
    "    if summ + item == goal:\n",
    "        return True\n",
    "    \n",
    "    mid = len(arr) // 2\n",
    "    if mid == 0:\n",
    "        return False\n",
    "    \n",
    "    result1 = checkSum(item, arr[:mid], goal)\n",
    "    result2 = checkSum(item, arr[mid:], goal)\n",
    "    \n",
    "    if result1 == True or result2 == True:\n",
    "        return True\n",
    "    \n",
    "    return False \n",
    "\n",
    "def groupSum(idx, arr, goal):\n",
    "    if idx == len(arr):\n",
    "        return False\n",
    "    \n",
    "    item = arr[idx]\n",
    "    new_arr = arr[:idx] + arr[idx+1:]\n",
    "    check = checkSum(item, new_arr, goal)\n",
    "    \n",
    "    if check:\n",
    "        return True\n",
    "    \n",
    "    return groupSum(idx + 1, arr, goal)\n",
    "\n",
    "\n",
    "print(groupSum(0, [2, 4, 8], 12))\n",
    "print(groupSum(0, [2, 4, 8], 14))\n",
    "print(groupSum(0, [2, 4, 8], 9))"
   ]
  },
  {
   "cell_type": "code",
   "execution_count": 6,
   "metadata": {},
   "outputs": [
    {
     "name": "stdout",
     "output_type": "stream",
     "text": [
      "True\n",
      "False\n",
      "True\n"
     ]
    }
   ],
   "source": [
    "#27\n",
    "def create_sum(arr):\n",
    "    if len(arr) == 1:\n",
    "        return arr[0]\n",
    "    return arr[0] + create_sum(arr[1:])\n",
    "\n",
    "def splitArray(arr):\n",
    "    if len(arr) < 2:\n",
    "        return True\n",
    "    \n",
    "    mid = len(arr) // 2\n",
    "    if len(arr) % 2 == 0:\n",
    "        result1 = create_sum(arr[:mid])\n",
    "        result2 = create_sum(arr[mid:])\n",
    "        \n",
    "        if result1 == result2:\n",
    "            return True\n",
    "    else:\n",
    "        result1_1 = create_sum(arr[:mid])\n",
    "        result1_2 = create_sum(arr[mid:])\n",
    "        \n",
    "        result2_1 = create_sum(arr[mid+1:])\n",
    "        result2_2 = create_sum(arr[:mid+1])\n",
    "        \n",
    "        if result1_1 == result1_2 or result2_1 == result2_2:\n",
    "            return True\n",
    "    \n",
    "    return False\n",
    "\n",
    "print(splitArray([2,2]))\n",
    "print(splitArray([2,3]))\n",
    "print(splitArray([5, 2, 3]))"
   ]
  },
  {
   "cell_type": "code",
   "execution_count": 8,
   "metadata": {},
   "outputs": [
    {
     "name": "stdout",
     "output_type": "stream",
     "text": [
      "True\n",
      "False\n",
      "True\n"
     ]
    }
   ],
   "source": [
    "#28\n",
    "def create_sum(arr):\n",
    "    if len(arr) == 1:\n",
    "        return arr[0]\n",
    "    return arr[0] + create_sum(arr[1:])\n",
    "\n",
    "def splitOdd10(arr):\n",
    "    if len(arr) < 3:\n",
    "        return \"Not enough arguments to split odd and multiple of 10\"\n",
    "    \n",
    "    mid = len(arr) // 2\n",
    "    if len(arr) % 2 == 0:\n",
    "        result1 = create_sum(arr[:mid])\n",
    "        result2 = create_sum(arr[mid:])\n",
    "        \n",
    "        if ((result1 % 10 == 0 and result2 % 2 == 1) or \n",
    "            (result1 % 2 == 1 and result2 % 10 == 0)):\n",
    "            return True\n",
    "    else:\n",
    "        result1_1 = create_sum(arr[:mid])\n",
    "        result1_2 = create_sum(arr[mid:])\n",
    "        \n",
    "        result2_1 = create_sum(arr[mid+1:])\n",
    "        result2_2 = create_sum(arr[:mid+1])\n",
    "        \n",
    "        if (((result1_1 % 10 == 0 and result1_2 % 2 == 1) or \n",
    "            (result1_1 % 2 == 1 and result1_2 % 10 == 0)) or\n",
    "            ((result2_1 % 10 == 0 and result2_2 % 2 == 1) or \n",
    "            (result2_1 % 2 == 1 and result2_2 % 10 == 0))):\n",
    "            return True\n",
    "    \n",
    "    return False\n",
    "\n",
    "print(splitOdd10([5, 5, 5]))\n",
    "print(splitOdd10([5, 5, 6]))\n",
    "print(splitOdd10([5, 5, 6, 1]))"
   ]
  },
  {
   "cell_type": "code",
   "execution_count": null,
   "metadata": {},
   "outputs": [],
   "source": [
    "#29 question doesn't match output"
   ]
  },
  {
   "cell_type": "code",
   "execution_count": 7,
   "metadata": {},
   "outputs": [
    {
     "name": "stdout",
     "output_type": "stream",
     "text": [
      "True\n",
      "True\n",
      "True\n"
     ]
    }
   ],
   "source": [
    "#30\n",
    "def create_sum(arr):\n",
    "    if len(arr) == 1:\n",
    "        return arr[0]\n",
    "    return arr[0] + create_sum(arr[1:])\n",
    "\n",
    "def checkSum(item, arr, goal):\n",
    "    summ = create_sum(arr)\n",
    "    if summ + item == goal:\n",
    "        return True\n",
    "    \n",
    "    mid = len(arr) // 2\n",
    "    if mid == 0:\n",
    "        return False\n",
    "    \n",
    "    result1 = checkSum(item, arr[:mid], goal)\n",
    "    result2 = checkSum(item, arr[mid:], goal)\n",
    "    \n",
    "    if result1 == True or result2 == True:\n",
    "        return True\n",
    "    \n",
    "    return False \n",
    "\n",
    "def check_multiple_5(arr): #constraint of multiple of 5\n",
    "    if len(arr) == 0:\n",
    "        return [], []\n",
    "    \n",
    "    mul5 = []\n",
    "    non_mul5 = []\n",
    "    \n",
    "    if arr[0] % 5 == 0:\n",
    "        if len(arr) > 1:\n",
    "            if arr[1] != 1:\n",
    "                mul5.append(arr[0])\n",
    "        else:\n",
    "            mul5.append(arr[0])      \n",
    "    else:\n",
    "        non_mul5.append(arr[0])\n",
    "        \n",
    "    arrays = check_multiple_5(arr[1:])\n",
    "    \n",
    "    mul5 += arrays[0]\n",
    "    non_mul5 += arrays[1]\n",
    "    \n",
    "    return (mul5, non_mul5)\n",
    "\n",
    "def groupSum5(idx, arr, goal):\n",
    "    if idx == len(arr):\n",
    "        return False\n",
    "    \n",
    "    item = arr[idx]\n",
    "    rem_arr = arr[:idx] + arr[idx+1:]\n",
    "    mul_5, non_mul5 = check_multiple_5(rem_arr)\n",
    "    sum_mul_5 = create_sum(mul_5)\n",
    "    item += sum_mul_5\n",
    "    # print(new_arr)\n",
    "    check = checkSum(item, non_mul5, goal)\n",
    "    \n",
    "    if check:\n",
    "        return True\n",
    "    \n",
    "    return groupSum5(idx + 1, arr, goal)\n",
    "\n",
    "\n",
    "# Test cases from the image\n",
    "print(groupSum5(0, [2, 5, 10, 4], 19))  # Output: True\n",
    "print(groupSum5(0, [2, 5, 10, 4], 17))  # Output: True\n",
    "print(groupSum5(0, [2, 5, 10, 4], 12))  # Output: False"
   ]
  }
 ],
 "metadata": {
  "kernelspec": {
   "display_name": "Python 3",
   "language": "python",
   "name": "python3"
  },
  "language_info": {
   "codemirror_mode": {
    "name": "ipython",
    "version": 3
   },
   "file_extension": ".py",
   "mimetype": "text/x-python",
   "name": "python",
   "nbconvert_exporter": "python",
   "pygments_lexer": "ipython3",
   "version": "3.11.2"
  }
 },
 "nbformat": 4,
 "nbformat_minor": 2
}
